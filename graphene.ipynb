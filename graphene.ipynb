{
 "cells": [
  {
   "cell_type": "code",
   "execution_count": null,
   "metadata": {
    "slideshow": {
     "slide_type": "skip"
    }
   },
   "outputs": [],
   "source": [
    "import numpy as np\n",
    "import scipy.linalg as spl\n",
    "\n",
    "%matplotlib inline\n",
    "import matplotlib\n",
    "import matplotlib.pylab as plt\n",
    "\n",
    "from sympy import Symbol,sin,cos,nsolve\n",
    "from scipy.optimize import minimize\n",
    "from scipy.optimize import root\n",
    "\n",
    "from ipywidgets import interact\n",
    "import ipywidgets as widgets\n",
    "\n",
    "import plotly.offline as py\n",
    "import plotly.graph_objs as go\n",
    "py.init_notebook_mode(connected=True)\n",
    "from IPython.core.display import display, HTML\n",
    "\n",
    "# The polling here is to ensure that plotly.js has already been loaded before\n",
    "# setting display alignment in order to avoid a race condition.\n",
    "display(HTML(\n",
    "    '<script>'\n",
    "        'var waitForPlotly = setInterval( function() {'\n",
    "            'if( typeof(window.Plotly) !== \"undefined\" ){'\n",
    "                'MathJax.Hub.Config({ SVG: { font: \"STIX-Web\" }, displayAlign: \"center\" });'\n",
    "                'MathJax.Hub.Queue([\"setRenderer\", MathJax.Hub, \"SVG\"]);'\n",
    "                'clearInterval(waitForPlotly);'\n",
    "            '}}, 250 );'\n",
    "    '</script>'\n",
    "))\n",
    "%config InlineBackend.figure_format = 'retina'"
   ]
  },
  {
   "cell_type": "markdown",
   "metadata": {
    "hide_input": true,
    "slideshow": {
     "slide_type": "slide"
    }
   },
   "source": [
    "<div style=\"width:100%;height:100%;background-repeat:no-repeat;background-blend-mode:color-dodge;background-image:url('bg.jpg');\">\n",
    "    <h1 style=\"text-align:right;margin-right:200px\"> Graphene Model</h1>\n",
    "    <div style=\"height:150px;\"></div>\n",
    "    <p style=\"color:#777;text-align:right\">\n",
    "        <span style=\"color:#000;font-size:38px;fonr-weight:bold\">Anoop </span>(strivetobelazy@gmail.com)<br/>\n",
    "    </p>\n",
    "</div>"
   ]
  },
  {
   "cell_type": "markdown",
   "metadata": {
    "slideshow": {
     "slide_type": "slide"
    }
   },
   "source": [
    "<!-- Equation and Algorithm-->\n",
    "<img src=\"sp2.png\" style=\"display: block;margin:auto;width:40%;float:left;margin-top:60px\">\n",
    "<img src=\"unit_cell.png\" style=\"display: block;margin:auto;width:60%;float:right\">"
   ]
  },
  {
   "cell_type": "markdown",
   "metadata": {
    "slideshow": {
     "slide_type": "slide"
    }
   },
   "source": [
    "$$\\vec{a1}=a\\left(-\\frac{1}{2}\\vec{e_x}+\\frac{\\sqrt{3}}{2}\\vec{e_y}\\right), \\vec{a2}=a\\left(\\frac{1}{2}\\vec{e_x}+\\frac{\\sqrt{3}}{2}\\vec{e_y}\\right)$$\n",
    "\n",
    "$$\\vec{k1}=2\\pi a^{-1}\\left(-\\vec{e_x}+\\frac{1}{\\sqrt{3}}\\vec{e_y}\\right), \\vec{k2}=2\\pi a^{-1}\\left(\\vec{e_x}+\\frac{1}{\\sqrt{3}}\\vec{e_y}\\right)$$"
   ]
  },
  {
   "cell_type": "markdown",
   "metadata": {
    "slideshow": {
     "slide_type": "slide"
    }
   },
   "source": [
    "<h3 style=\"text-align:center;\">Tight binding for multi-atomic Bravais lattice</h3>\n",
    "$$\\hat{H}=-\\frac{1}{2}\\nabla^2+\\sum_{\\vec{R}}U\\left(\\vec{r}-\\vec{R}\\right)=-\\frac{1}{2}\\nabla^2+\\sum_{\\vec{R}}\\sum_{\\vec{r_n}}U_0\\left(\\vec{r}-\\vec{R}-\\vec{r_n}\\right)$$\n",
    "$$\\psi(\\vec{r})=\\sum_n\\sum_{\\vec{R}}e^{i\\vec{k}\\vec{R}}b_n\\phi(\\vec{r}-\\vec{R}-\\vec{r_n})$$"
   ]
  },
  {
   "cell_type": "markdown",
   "metadata": {
    "slideshow": {
     "slide_type": "slide"
    }
   },
   "source": [
    "$$\\hat{H}=-\\frac{1}{2}\\nabla^2+U(\\vec{r}-\\vec{r_m})+\\sum_{n\\ne m}\\sum_{\\vec{R}}U_0(\\vec{r}-\\vec{R}-\\vec{r_n})$$\n",
    "$$Eb_m=t\\sum_{(n,\\vec{R})\\in\\sigma_m}b_n e^{i\\vec{k}\\vec{R}}$$"
   ]
  },
  {
   "cell_type": "markdown",
   "metadata": {
    "slideshow": {
     "slide_type": "slide"
    }
   },
   "source": [
    "$$(n,\\vec{R})\\rightarrow\\text{(}n^{th}\\text{ in unit cell }\\vec{R}\\text{)}$$\n",
    "$$\\sigma_m \\rightarrow\\text{( set of tuples belonging to the neighboring atoms of the (m,0)}\\text{)} $$\n",
    "<img src=\"sublattice.png\" style=\"display: block;margin:auto;width:30%;\">"
   ]
  },
  {
   "cell_type": "code",
   "execution_count": null,
   "metadata": {
    "slideshow": {
     "slide_type": "skip"
    }
   },
   "outputs": [],
   "source": [
    "t=-2.6\n",
    "a =1.0\n",
    "avec=[[-a,0],[-1.*a/2.,a*np.sqrt(3.)/2.],[1.*a/2.,a*np.sqrt(3.)/2.]]\n",
    "\n",
    "def energy(kx,ky):\n",
    "    kvec=[kx,ky]\n",
    "    Ek=t*np.sqrt(3+2*np.cos(np.vdot(kvec,avec[1]))+\n",
    "               2*np.cos(np.vdot(kvec,avec[2]))+\n",
    "               2*np.cos(np.vdot(kvec,avec[0])))\n",
    "    return Ek"
   ]
  },
  {
   "cell_type": "code",
   "execution_count": null,
   "metadata": {
    "slideshow": {
     "slide_type": "skip"
    }
   },
   "outputs": [],
   "source": [
    "def plot_graphene_3D_A(xlim,ylim,resol):\n",
    "    x = np.arange(xlim,ylim ,resol)\n",
    "    y = np.arange(xlim,ylim ,resol)\n",
    "\n",
    "\n",
    "    kx, ky  =  np.mgrid[xlim:ylim:resol, xlim:ylim:resol]\n",
    "    Z = np.zeros_like(kx)\n",
    "\n",
    "    for i in range(kx.shape[0]):\n",
    "        for j in range(kx.shape[1]):\n",
    "            Z[i,j] = energy(kx[i,j], ky[i,j])\n",
    "    \n",
    "    #plotting\n",
    "    trace1=go.Surface(\n",
    "            x=x,\n",
    "            y=y,\n",
    "            z=Z,\n",
    "            showscale=True,\n",
    "            name='-E'\n",
    "        )\n",
    "    trace2=go.Surface(\n",
    "            x=x,\n",
    "            y=y,\n",
    "            z=-Z,\n",
    "            showscale=False,\n",
    "            name='+E'\n",
    "        )\n",
    "\n",
    "    data = [trace1,trace2]\n",
    "    layout = go.Layout(\n",
    "        title='Graphine-Analytical',\n",
    "            margin=dict(\n",
    "            l=65,\n",
    "            r=50,\n",
    "            b=65,\n",
    "            t=90\n",
    "        ),\n",
    "    )\n",
    "    fig = go.Figure(data=data, layout=layout)\n",
    "    py.iplot(fig, filename='3d-surface-graphene',show_link=False)\n",
    "    return x,y,Z\n",
    "    \n",
    "lmin = -4.*np.pi/3.; lmax = 4.*np.pi/3.;"
   ]
  },
  {
   "cell_type": "code",
   "execution_count": null,
   "metadata": {
    "hide_input": false,
    "scrolled": false,
    "slideshow": {
     "slide_type": "slide"
    }
   },
   "outputs": [],
   "source": [
    "x,y,Z=plot_graphene_3D_A(lmin,lmax,0.01)"
   ]
  },
  {
   "cell_type": "code",
   "execution_count": null,
   "metadata": {
    "slideshow": {
     "slide_type": "skip"
    }
   },
   "outputs": [],
   "source": [
    "a=1;t=-2.6;n=2\n",
    "a0=[0,0]\n",
    "a1=[-1.*a/2.,a*np.sqrt(3.)/2.]\n",
    "a2=[1.*a/2.,a*np.sqrt(3.)/2.]\n",
    "a11 = [1.*a/2.,-1*a*np.sqrt(3.)/2.]\n",
    "a12 = [-1.*a/2.,-1*a*np.sqrt(3.)/2.]\n",
    "\n",
    "sigma=[]\n",
    "for i in range(n):\n",
    "    if (i==0): sigma.append([[1,a1],[1,a2],[1,a0]])\n",
    "    if (i==1): sigma.append([[0,a11],[0,a12],[0,a0]])\n",
    "        \n",
    "H = np.zeros((2, 2), dtype=np.complex)\n",
    "\n",
    "def Hamiltonian(kx,ky):\n",
    "    kvec=[kx,ky]\n",
    "    for m in range(2):\n",
    "        for n in range(2):\n",
    "            H[m,n]=0\n",
    "            if (m!=n):\n",
    "                for i in range(3):\n",
    "                    Rvec=sigma[m][i][1]\n",
    "                    H[m,n] +=  np.complex(t*np.exp(1j*np.vdot(kvec,Rvec)))\n",
    "    return H\n",
    "\n",
    "def Henergy(kx,ky):\n",
    "    H = Hamiltonian(kx,ky)\n",
    "    evals, evecs = spl.eigh(H)\n",
    "    return evals\n",
    "    "
   ]
  },
  {
   "cell_type": "code",
   "execution_count": null,
   "metadata": {
    "slideshow": {
     "slide_type": "skip"
    }
   },
   "outputs": [],
   "source": [
    "def plot_graphene_3D_N(n,xlim,ylim,resol):\n",
    "    x = np.arange(xlim,ylim ,resol)\n",
    "    y = np.arange(xlim,ylim ,resol)\n",
    "\n",
    "    kx, ky  =  np.mgrid[xlim:ylim:resol, xlim:ylim:resol]\n",
    "    # ZN = np.zeros_like(kx)\n",
    "\n",
    "    ZN = np.zeros((n,kx.shape[0],kx.shape[0]))\n",
    "    e=np.zeros(n)\n",
    "\n",
    "    for i in range(kx.shape[0]):\n",
    "        for j in range(kx.shape[1]):\n",
    "            for m in range(n):\n",
    "                e = Henergy(kx[i,j], ky[i,j])\n",
    "                ZN[m,i,j] = e[m]\n",
    "\n",
    "    data=[]\n",
    "    for i in range(n):\n",
    "        trace=go.Surface(\n",
    "                x=x,\n",
    "                y=y,\n",
    "                z=ZN[i],\n",
    "                showscale=True if i == 1 else False\n",
    "            )\n",
    "        data.append(trace)\n",
    "\n",
    "    layout = go.Layout(\n",
    "        title='Graphine-Numerical',\n",
    "            margin=dict(\n",
    "            l=65,\n",
    "            r=50,\n",
    "            b=65,\n",
    "            t=90\n",
    "        ),\n",
    "    )\n",
    "    fig2 = go.Figure(data=data, layout=layout)\n",
    "    py.iplot(fig2, filename='3d-surface-graphene-numerical',show_link=False)\n",
    "    return x,y,ZN\n",
    "    \n",
    "n=2;lmin = -4*np.pi/3.;lmax = 4*np.pi/3."
   ]
  },
  {
   "cell_type": "code",
   "execution_count": null,
   "metadata": {
    "slideshow": {
     "slide_type": "slide"
    }
   },
   "outputs": [],
   "source": [
    "x,y,ZN=plot_graphene_3D_N(n,lmin,lmax,0.1)"
   ]
  },
  {
   "cell_type": "markdown",
   "metadata": {
    "slideshow": {
     "slide_type": "slide"
    }
   },
   "source": [
    "<h2 style=\"text-align:center;\"> Desity of states</h2>\n",
    "<br/>\n",
    "$$D(E)= \\sum_m\\delta(E-E_m)$$\n",
    "$$\\text{DOS}(E) = \\frac{1}{c \\sqrt{2\\pi}} \\sum_n{e^{-\\frac{(E_n - E)^2}{2 c^2}}}$$"
   ]
  },
  {
   "cell_type": "code",
   "execution_count": null,
   "metadata": {
    "slideshow": {
     "slide_type": "slide"
    }
   },
   "outputs": [],
   "source": [
    "E=ZN.flatten()\n",
    "dos_n,bin_edges_n = np.histogram(E,80,normed=True)\n",
    "dos_p,bin_edges_p = np.histogram(-E,80,normed=True)"
   ]
  },
  {
   "cell_type": "code",
   "execution_count": null,
   "metadata": {
    "slideshow": {
     "slide_type": "skip"
    }
   },
   "outputs": [],
   "source": [
    "\n",
    "trace0 = go.Scatter(\n",
    "    x = bin_edges_p,\n",
    "    y = dos_p,\n",
    "    mode = 'lines',\n",
    ")\n",
    "trace1 = go.Scatter(\n",
    "    x = bin_edges_n,\n",
    "    y = dos_n,\n",
    "    mode = 'lines',\n",
    ")\n",
    "\n",
    "data_dos = [trace0,trace1]\n",
    "layout_dos = dict(\n",
    "    title = '<b>DOS-Graphene</b>',\n",
    "    xaxis = dict(title = '<b>E</b>'),\n",
    "    yaxis = dict(title = '<b>D(E)</b>'),\n",
    "    showlegend=False,\n",
    "    )\n",
    "\n",
    "fig_dos = dict(data=data_dos, layout=layout_dos)\n",
    "py.iplot(fig_dos, filename='dos-graphene',show_link=False)"
   ]
  },
  {
   "cell_type": "markdown",
   "metadata": {
    "slideshow": {
     "slide_type": "slide"
    }
   },
   "source": [
    "<p style=\"text-align:center;\">Graphene nanoribbons</p>\n",
    "<img src=\"zGNR.png\" style=\"display: block;margin:auto;width:50%;\">"
   ]
  },
  {
   "cell_type": "code",
   "execution_count": null,
   "metadata": {
    "slideshow": {
     "slide_type": "skip"
    }
   },
   "outputs": [],
   "source": [
    "t=-2.6\n",
    "a =1.0\n",
    "avec=[[-a,0],[-1.*a/2.,a*np.sqrt(3.)/2.],[1.*a/2.,a*np.sqrt(3.)/2.]]\n",
    "# N=6\n",
    "\n",
    "def plot_graphene_nanoribbons_Z(N,lmin,lmax,resol):\n",
    "    def ribbon_energy(k):\n",
    "        gk=2*np.cos(k/2.)\n",
    "    #     th = Symbol('th')\n",
    "        rvec=np.arange(1,N+1)\n",
    "        theta=np.zeros(len(rvec))\n",
    "\n",
    "        for i in range(len(rvec)):\n",
    "            def f1(x):\n",
    "                return [gk*sin((rvec[i]+1)*x)+gk*sin(rvec[i]*x)]\n",
    "    #         res = minimize(lambda x: gk*sin((rvec[i]+1)*x)+sin(rvec[i]*x), x0=0.001)\n",
    "    #         theta[i]=res.x\n",
    "            res = root(f1, [1.0])\n",
    "            theta[i] = res.x\n",
    "\n",
    "        Ek = t*np.sqrt(gk**2+1+2*gk*np.cos(theta))\n",
    "        return Ek\n",
    "\n",
    "    x = np.arange(lmin,lmax ,resol)\n",
    "\n",
    "    Z = np.zeros((len(x),N))\n",
    "\n",
    "    for i in range(len(x)):\n",
    "            Z[i,:] = ribbon_energy(x[i])\n",
    "\n",
    "    #plotting\n",
    "    data=[]\n",
    "    for i in range(N):\n",
    "        trace1=go.Scatter(\n",
    "                x=x,\n",
    "                y=Z[:,i],\n",
    "                name='-E'\n",
    "            )\n",
    "        data.append(trace1)\n",
    "        trace2=go.Scatter(\n",
    "                x=x,\n",
    "                y=-Z[:,i],\n",
    "                name='+E'\n",
    "            )\n",
    "        data.append(trace2)\n",
    "\n",
    "    #     data = [trace1,trace2]\n",
    "    layout = go.Layout(\n",
    "        title='Graphine-nanoribbons(zGNR)',\n",
    "        xaxis=dict(title = '<b>k</b>'),        \n",
    "        yaxis=dict(title = '<b>E(k)</b>'),\n",
    "        showlegend=False\n",
    "    )\n",
    "    fig = go.Figure(data=data, layout=layout)\n",
    "    py.iplot(fig, filename='graphene-ribbon',show_link=False)\n",
    "\n",
    "    return x,Z\n",
    "\n",
    "lmin = -np.pi; lmax = np.pi; N=6\n",
    "\n",
    "def iplotz(i):\n",
    "    x,Z =plot_graphene_nanoribbons_Z(i+1,lmin,lmax,0.1)\n",
    "\n",
    "slider=widgets.SelectionSlider(\n",
    "    options={'1': 0, '2': 1, '3': 2, '4':3, '5':4, '6':5, '7':6, '8':7, '9':8, '10':9, \n",
    "             '20':19, '30':29, '50':49, '80':79,},\n",
    "    value=0,\n",
    "    description='np',\n",
    "    disabled=False,\n",
    "    orientation='horizontal',\n",
    "    readout=True,\n",
    ")\n",
    "\n",
    "_=interact(iplotz,i=slider),"
   ]
  },
  {
   "cell_type": "markdown",
   "metadata": {},
   "source": [
    "### Graphene ZigZag Ribbon(Numerical)"
   ]
  },
  {
   "cell_type": "code",
   "execution_count": null,
   "metadata": {},
   "outputs": [],
   "source": [
    "t=2.6\n",
    "a0=0.\n",
    "a1=1.\n",
    "\n",
    "def sigma(m,kvec):\n",
    "    ct=np.complex(t)\n",
    "    nt=t*(1+np.exp(-1j*kvec*a1))\n",
    "    pt=t*(1+np.exp(1j*kvec*a1))\n",
    "    if (m%4==0) : #sigma.append([[m+1,a0],[m-1,a0],[m-1,-a1]])\n",
    "        pos1=m+1;val1=ct\n",
    "        pos2=m-1;val2=nt\n",
    "    if (m%4==1) : #sigma.append([[m-1,a0],[m+1,a0],[m+1,-a1]]) \n",
    "        pos1=m-1;val1=ct\n",
    "        pos2=m+1;val2=nt\n",
    "    if (m%4==2) : #sigma.append([[m+1,a0],[m-1,a0],[m-1,a1]])\n",
    "        pos1=m+1;val1=ct\n",
    "        pos2=m-1;val2=pt\n",
    "    if (m%4==3) : #sigma.append([[m-1,a0],[m+1,a0],[m+1,a1]])\n",
    "        pos1=m-1;val1=ct\n",
    "        pos2=m+1;val2=pt\n",
    "    return pos1,val1,pos2,val2\n",
    "\n",
    "def hamiltonian(kvec,N):\n",
    "    H_ = np.zeros((2*N, 2*N), dtype=np.complex)\n",
    "    for m in range(2*N):\n",
    "        pos1,val1,pos2,val2 = sigma(m+1,kvec)\n",
    "        if (pos1!=0) and (pos1!=2*N+1):\n",
    "            H_[m,pos1-1]=val1\n",
    "        if (pos2!=0) and (pos2!=2*N+1):\n",
    "            H_[m,pos2-1]=val2   \n",
    "    return H_\n",
    "\n",
    "def evalues(kx,N):\n",
    "    H = hamiltonian(kx,N)\n",
    "    evals, evecs = spl.eigh(H)\n",
    "    return evals\n",
    "\n",
    "def band_struct(N,xlim, ylim ,reso):\n",
    "    x = np.arange(xlim, ylim ,resol)\n",
    "    ZN = np.zeros((len(x),2*N))\n",
    "    for i in range(len(x)):\n",
    "            ZN[i,:] = evalues(x[i], N)\n",
    "    return x, ZN"
   ]
  },
  {
   "cell_type": "code",
   "execution_count": null,
   "metadata": {},
   "outputs": [],
   "source": [
    "def plot_graphene_nanoribbons_Z(N, xlim, ylim,resol):\n",
    "    x,ZN=band_struct(N,xlim, ylim ,resol)\n",
    "    # #plotting\n",
    "    data=[]\n",
    "#     for i in range(N):\n",
    "    trace1=go.Scatter(\n",
    "            x=x,\n",
    "            y=ZN[0,:],\n",
    "            name='-E'\n",
    "        )\n",
    "    data.append(trace1)\n",
    "    trace2=go.Scatter(\n",
    "            x=x,\n",
    "            y=ZN[1,:],\n",
    "            name='+E'\n",
    "        )\n",
    "    data.append(trace2)\n",
    "\n",
    "    layout = go.Layout(\n",
    "        title='Graphene-Numerical',\n",
    "        showlegend=False,\n",
    "            margin=dict(\n",
    "            l=65,\n",
    "            r=50,\n",
    "            b=65,\n",
    "            t=90\n",
    "        ),\n",
    "    )\n",
    "    fig2 = go.Figure(data=data, layout=layout)\n",
    "    py.iplot(fig2, filename='3d-surface-graphene-numerical',show_link=False)\n",
    "\n",
    "xlim = -1*np.pi; ylim = np.pi; resol=0.1\n",
    "\n",
    "def iplotz(i):\n",
    "    plot_graphene_nanoribbons_Z(i, xlim, ylim, 0.1)\n",
    "\n",
    "slider=widgets.SelectionSlider(\n",
    "    options={'0': 0, '1': 1, '2': 2, '3':3, '4':4, '5':5, '6':6, '7':7, '8':8, '9':9, \n",
    "             '20':20, '30':30, '50':50, '80':80, '100':100},\n",
    "    value=2,\n",
    "    description='np',\n",
    "    disabled=False,\n",
    "    orientation='horizontal',\n",
    "    readout=True,\n",
    ")\n",
    "\n",
    "_=interact(iplotz,i=slider),"
   ]
  },
  {
   "cell_type": "code",
   "execution_count": null,
   "metadata": {},
   "outputs": [],
   "source": [
    "##  edge effect\n",
    "t=2.6\n",
    "a0=0.\n",
    "a1=1.\n",
    "Eb=0.7*t\n",
    "\n",
    "def sigma(m,kvec):\n",
    "    ct=np.complex(t)\n",
    "    nt=t*(1+np.exp(-1j*kvec*a1))\n",
    "    pt=t*(1+np.exp(1j*kvec*a1))\n",
    "    if (m%4==0) : #sigma.append([[m+1,a0],[m-1,a0],[m-1,-a1]])\n",
    "        pos1=m+1;val1=ct\n",
    "        pos2=m-1;val2=nt\n",
    "    if (m%4==1) : #sigma.append([[m-1,a0],[m+1,a0],[m+1,-a1]]) \n",
    "        pos1=m-1;val1=ct\n",
    "        pos2=m+1;val2=nt\n",
    "    if (m%4==2) : #sigma.append([[m+1,a0],[m-1,a0],[m-1,a1]])\n",
    "        pos1=m+1;val1=ct\n",
    "        pos2=m-1;val2=pt\n",
    "    if (m%4==3) : #sigma.append([[m-1,a0],[m+1,a0],[m+1,a1]])\n",
    "        pos1=m-1;val1=ct\n",
    "        pos2=m+1;val2=pt\n",
    "    return pos1,val1,pos2,val2\n",
    "\n",
    "def hamiltonian(kvec,N):\n",
    "    H_ = np.zeros((2*N, 2*N), dtype=np.complex)\n",
    "    for m in range(2*N):\n",
    "        pos1,val1,pos2,val2 = sigma(m+1,kvec)\n",
    "        if (pos1!=0) and (pos1!=2*N+1):\n",
    "            H_[m,pos1-1]=val1\n",
    "        if (pos2!=0) and (pos2!=2*N+1):\n",
    "            H_[m,pos2-1]=val2\n",
    "        H_[0,0]=Eb;H_[2*N-1,2*N-1]=Eb\n",
    "    return H_\n",
    "\n",
    "def evalues(kx,N):\n",
    "    H = hamiltonian(kx,N)\n",
    "    evals, evecs = spl.eigh(H)\n",
    "    return evals\n",
    "\n",
    "def band_struct(N,xlim, ylim ,reso):\n",
    "    x = np.arange(xlim, ylim ,resol)\n",
    "    ZN = np.zeros((len(x),2*N))\n",
    "    for i in range(len(x)):\n",
    "            ZN[i,:] = evalues(x[i], N)\n",
    "    return x, ZN\n",
    "\n",
    "def plot_graphene_nanoribbons_Z(N, xlim, ylim,resol):\n",
    "    x,ZN=band_struct(N,xlim, ylim ,resol)\n",
    "    # #plotting\n",
    "    data=[]\n",
    "    for i in range(N):\n",
    "        trace1=go.Scatter(\n",
    "                x=x,\n",
    "                y=ZN[:,i],\n",
    "                name='-E'\n",
    "            )\n",
    "        data.append(trace1)\n",
    "        trace2=go.Scatter(\n",
    "                x=x,\n",
    "                y=-ZN[:,i],\n",
    "                name='+E'\n",
    "            )\n",
    "        data.append(trace2)\n",
    "\n",
    "    layout = go.Layout(\n",
    "        title='Graphene-Numerical',\n",
    "        showlegend=False,\n",
    "            margin=dict(\n",
    "            l=65,\n",
    "            r=50,\n",
    "            b=65,\n",
    "            t=90\n",
    "        ),\n",
    "    )\n",
    "    fig2 = go.Figure(data=data, layout=layout)\n",
    "    py.iplot(fig2, filename='3d-surface-graphene-numerical',show_link=False)\n",
    "\n",
    "xlim = -1*np.pi; ylim = np.pi; resol=0.1\n",
    "\n",
    "def iplotz(i):\n",
    "    plot_graphene_nanoribbons_Z(i, xlim, ylim, 0.1)\n",
    "\n",
    "slider=widgets.SelectionSlider(\n",
    "    options={'0': 0, '1': 1, '2': 2, '3':3, '4':4, '5':5, '6':6, '7':7, '8':8, '9':9, \n",
    "             '20':20, '30':30, '50':50, '80':80, '100':100},\n",
    "    value=2,\n",
    "    description='np',\n",
    "    disabled=False,\n",
    "    orientation='horizontal',\n",
    "    readout=True,\n",
    ")\n",
    "\n",
    "_=interact(iplotz,i=slider),"
   ]
  },
  {
   "cell_type": "markdown",
   "metadata": {
    "slideshow": {
     "slide_type": "subslide"
    }
   },
   "source": [
    "### Graphene Armchair Ribbon(Numerical)"
   ]
  },
  {
   "cell_type": "code",
   "execution_count": null,
   "metadata": {
    "slideshow": {
     "slide_type": "subslide"
    }
   },
   "outputs": [],
   "source": [
    "def plot_graphene_nanoribbons_A(N,lmin,lmax,resol):\n",
    "    rvec=np.arange(1,N+1)\n",
    "    ep = 2*np.cos(np.pi*rvec/(N+1))\n",
    "\n",
    "    def ribbon_energy(k):\n",
    "        Ek = t*np.sqrt(1+2*ep*np.cos(k)+ep**2)\n",
    "        return Ek\n",
    "    x = np.arange(lmin,lmax ,resol)\n",
    "    \n",
    "    Z = np.zeros((len(x),N))\n",
    "\n",
    "    for i in range(len(x)):\n",
    "            Z[i,:] = ribbon_energy(x[i])\n",
    "    \n",
    "    #plotting\n",
    "    data=[]\n",
    "    for i in range(N):\n",
    "        trace1=go.Scatter(\n",
    "                x=x,\n",
    "                y=Z[:,i],\n",
    "                name='-E'\n",
    "            )\n",
    "        data.append(trace1)\n",
    "        trace2=go.Scatter(\n",
    "                x=x,\n",
    "                y=-Z[:,i],\n",
    "                name='+E'\n",
    "            )\n",
    "        data.append(trace2)\n",
    "\n",
    "#     data = [trace1,trace2]\n",
    "    layout = go.Layout(\n",
    "        title='Graphine-nanoribbons-aGNR',\n",
    "        xaxis=dict(title = '<b>k</b>'),        \n",
    "        yaxis=dict(title = '<b>E(k)</b>'),\n",
    "        showlegend=False\n",
    "    )\n",
    "    fig = go.Figure(data=data, layout=layout)\n",
    "    py.iplot(fig, filename='graphene-ribbon',show_link=False)\n",
    "    return x,Z\n",
    "    \n",
    "lmin = -np.pi; lmax = np.pi;\n",
    "\n",
    "def iplot(i):\n",
    "    x,Z=plot_graphene_nanoribbons_A(i,lmin,lmax,0.05)\n",
    "\n",
    "slider=widgets.SelectionSlider(\n",
    "    options={'0': 0, '1': 1, '2': 2, '3':3, '4':4, '5':5, '6':6, '7':7, '8':8, '9':9, \n",
    "             '20':20, '30':30, '50':50, '80':80, '100':100},\n",
    "    value=2,\n",
    "    description='np',\n",
    "    disabled=False,\n",
    "    orientation='horizontal',\n",
    "    readout=True,\n",
    ")\n",
    "\n",
    "_=interact(iplot,i=slider)"
   ]
  }
 ],
 "metadata": {
  "hide_input": false,
  "kernelspec": {
   "display_name": "Python 3",
   "language": "python",
   "name": "python3"
  },
  "language_info": {
   "codemirror_mode": {
    "name": "ipython",
    "version": 3
   },
   "file_extension": ".py",
   "mimetype": "text/x-python",
   "name": "python",
   "nbconvert_exporter": "python",
   "pygments_lexer": "ipython3",
   "version": "3.6.2"
  }
 },
 "nbformat": 4,
 "nbformat_minor": 2
}
