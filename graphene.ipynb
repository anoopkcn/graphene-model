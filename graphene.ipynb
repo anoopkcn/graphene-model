{
 "cells": [
  {
   "cell_type": "markdown",
   "metadata": {
    "hide_input": true,
    "slideshow": {
     "slide_type": "slide"
    }
   },
   "source": [
    "<h1 style=\"text-align:center;\"> Graphene Model - Again</h1>\n",
    "<div style=\"height:100px;\"></div>\n",
    "<h3 style=\"text-align:center;\"> Anoop </h3>\n",
    "<h4 style=\"text-align:center;\">\n",
    "    <span style=\"color:#777\">(github.com/strivetobelazy/graphene-model)</span>\n",
    "</h4>"
   ]
  },
  {
   "cell_type": "code",
   "execution_count": null,
   "metadata": {
    "slideshow": {
     "slide_type": "skip"
    }
   },
   "outputs": [],
   "source": [
    "import numpy as np\n",
    "import scipy.linalg as spl\n",
    "\n",
    "%matplotlib inline\n",
    "import matplotlib\n",
    "import matplotlib.pylab as plt\n",
    "\n",
    "from sympy import Symbol,sin,cos,nsolve\n",
    "from scipy.optimize import minimize\n",
    "from scipy.optimize import root\n",
    "\n",
    "from ipywidgets import interact, fixed\n",
    "import ipywidgets as widgets\n",
    "\n",
    "import plotly.offline as py\n",
    "import plotly.graph_objs as go\n",
    "py.init_notebook_mode(connected=True)\n",
    "from IPython.core.display import display, HTML\n",
    "\n",
    "# The polling here is to ensure that plotly.js has already been loaded before\n",
    "# setting display alignment in order to avoid a race condition.\n",
    "display(HTML(\n",
    "    '<script>'\n",
    "        'var waitForPlotly = setInterval( function() {'\n",
    "            'if( typeof(window.Plotly) !== \"undefined\" ){'\n",
    "                'MathJax.Hub.Config({ SVG: { font: \"STIX-Web\" }, displayAlign: \"center\" });'\n",
    "                'MathJax.Hub.Queue([\"setRenderer\", MathJax.Hub, \"SVG\"]);'\n",
    "                'clearInterval(waitForPlotly);'\n",
    "            '}}, 250 );'\n",
    "    '</script>'\n",
    "))\n",
    "%config InlineBackend.figure_format = 'retina'"
   ]
  },
  {
   "cell_type": "markdown",
   "metadata": {
    "slideshow": {
     "slide_type": "slide"
    }
   },
   "source": [
    "<!-- Equation and Algorithm-->\n",
    "<!--<img src=\"sp2.png\" style=\"display: block;margin:auto;width:40%;float:left;margin-top:60px\">-->\n",
    "<img src=\"color_sublattice.png\" style=\"display: block;margin:auto;width:45%;\">"
   ]
  },
  {
   "cell_type": "markdown",
   "metadata": {
    "slideshow": {
     "slide_type": "slide"
    }
   },
   "source": [
    "$$\\vec{a1}=a\\left(-\\frac{1}{2}\\vec{e_x}+\\frac{\\sqrt{3}}{2}\\vec{e_y}\\right), \\vec{a2}=a\\left(\\frac{1}{2}\\vec{e_x}+\\frac{\\sqrt{3}}{2}\\vec{e_y}\\right)$$\n",
    "\n",
    "$$\\vec{k1}=2\\pi a^{-1}\\left(-\\vec{e_x}+\\frac{1}{\\sqrt{3}}\\vec{e_y}\\right), \\vec{k2}=2\\pi a^{-1}\\left(\\vec{e_x}+\\frac{1}{\\sqrt{3}}\\vec{e_y}\\right)$$"
   ]
  },
  {
   "cell_type": "markdown",
   "metadata": {
    "slideshow": {
     "slide_type": "slide"
    }
   },
   "source": [
    "$$\\hat{H}=-\\frac{1}{2}\\nabla^2+\\sum_{\\vec{R}}U\\left(\\vec{r}-\\vec{R}\\right)\\\\\n",
    "\\hat{H}=-\\frac{1}{2}\\nabla^2+\\sum_{\\vec{R}}\\sum_{\\vec{r_n}}U_0\\left(\\vec{r}-\\vec{R}-\\vec{r_n}\\right)$$\n",
    "\n",
    "\n",
    "$$\\psi(\\vec{r})=\\sum_n\\sum_{\\vec{R}}e^{i\\vec{k}\\vec{R}}b_n\\phi(\\vec{r}-\\vec{R}-\\vec{r_n})$$"
   ]
  },
  {
   "cell_type": "markdown",
   "metadata": {
    "slideshow": {
     "slide_type": "slide"
    }
   },
   "source": [
    "$$Eb_m=t\\sum_{(n,\\vec{R})\\in\\sigma_m}b_n e^{i\\vec{k}\\vec{R}}$$"
   ]
  },
  {
   "cell_type": "markdown",
   "metadata": {
    "hide_input": false,
    "scrolled": false,
    "slideshow": {
     "slide_type": "skip"
    }
   },
   "source": [
    "### Graphene Band Structure"
   ]
  },
  {
   "cell_type": "code",
   "execution_count": null,
   "metadata": {
    "slideshow": {
     "slide_type": "skip"
    }
   },
   "outputs": [],
   "source": [
    "a=1;t=-2.6; a0=[0,0]\n",
    "a1=[-1.*a/2.,a*np.sqrt(3.)/2.]\n",
    "a2=[1.*a/2.,a*np.sqrt(3.)/2.]\n",
    "b1 = [1.*a/2.,-1*a*np.sqrt(3.)/2.] #-a1\n",
    "b2 = [-1.*a/2.,-1*a*np.sqrt(3.)/2.] #-a2"
   ]
  },
  {
   "cell_type": "code",
   "execution_count": null,
   "metadata": {
    "slideshow": {
     "slide_type": "slide"
    }
   },
   "outputs": [],
   "source": [
    "sigma=[]\n",
    "for i in range(2):\n",
    "    if (i==0): sigma.append([[1,a1],[1,a2],[1,a0]])\n",
    "    if (i==1): sigma.append([[0,b1],[0,b2],[0,a0]])\n",
    "\n",
    "def Hamiltonian(kx,ky):\n",
    "    H = np.zeros((2, 2), dtype=np.complex)\n",
    "    kvec=[kx,ky]\n",
    "    for m in range(2):\n",
    "        for n in range(2):\n",
    "            if (m!=n):\n",
    "                for i in range(3):\n",
    "                    Rvec=sigma[m][i][1]\n",
    "                    H[m,n] +=  np.complex(t*np.exp(1j*np.vdot(kvec,Rvec)))\n",
    "    return H"
   ]
  },
  {
   "cell_type": "code",
   "execution_count": null,
   "metadata": {
    "slideshow": {
     "slide_type": "skip"
    }
   },
   "outputs": [],
   "source": [
    "def plot_graphene_3D_N(n,xlim,ylim,resol):\n",
    "    x = np.arange(xlim,ylim ,resol)\n",
    "    y = np.arange(xlim,ylim ,resol)\n",
    "\n",
    "    kx, ky  =  np.mgrid[xlim:ylim:resol, xlim:ylim:resol]\n",
    "    # ZN = np.zeros_like(kx)\n",
    "\n",
    "    ZN = np.zeros((n,kx.shape[0],kx.shape[0]))\n",
    "    e=np.zeros(n)\n",
    "\n",
    "    for i in range(kx.shape[0]):\n",
    "        for j in range(kx.shape[1]):\n",
    "            for m in range(n):\n",
    "                H = Hamiltonian(kx[i,j],ky[i,j])\n",
    "                evals, evecs = spl.eigh(H)\n",
    "                ZN[m,i,j] = evals[m]\n",
    "\n",
    "    data=[]\n",
    "    for i in range(n):\n",
    "        trace=go.Surface(\n",
    "                x=x,\n",
    "                y=y,\n",
    "                z=ZN[i],\n",
    "                showscale=True if i == 1 else False\n",
    "            )\n",
    "        data.append(trace)\n",
    "\n",
    "    layout = go.Layout(\n",
    "        title='Graphine-Numerical',\n",
    "            margin=dict(\n",
    "            l=65,\n",
    "            r=50,\n",
    "            b=65,\n",
    "            t=90\n",
    "        ),\n",
    "    )\n",
    "    fig2 = go.Figure(data=data, layout=layout)\n",
    "    py.iplot(fig2, filename='3d-surface-graphene-numerical',show_link=False)\n",
    "    return x,y,ZN"
   ]
  },
  {
   "cell_type": "code",
   "execution_count": null,
   "metadata": {
    "slideshow": {
     "slide_type": "slide"
    }
   },
   "outputs": [],
   "source": [
    "n=2;lmin = -4*np.pi/3.;lmax = 4*np.pi/3.\n",
    "x,y,ZN=plot_graphene_3D_N(n,lmin,lmax,0.1)"
   ]
  },
  {
   "cell_type": "markdown",
   "metadata": {
    "slideshow": {
     "slide_type": "slide"
    }
   },
   "source": [
    "<img src=\"zGNR.png\" style=\"display: block;margin:auto;width:30%;\">"
   ]
  },
  {
   "cell_type": "markdown",
   "metadata": {
    "slideshow": {
     "slide_type": "skip"
    }
   },
   "source": [
    "### Graphene ZigZag Ribbon(zGNR)"
   ]
  },
  {
   "cell_type": "code",
   "execution_count": null,
   "metadata": {
    "slideshow": {
     "slide_type": "slide"
    }
   },
   "outputs": [],
   "source": [
    "t=2.6; a0=0.; a1=1.\n",
    "\n",
    "def sigma_z(m,kvec):\n",
    "    ct=np.complex(t)\n",
    "    nt=t*(1+np.exp(-1j*kvec*a1))\n",
    "    pt=t*(1+np.exp(1j*kvec*a1))\n",
    "    if (m%4==0) : pos1=m+1;val1=ct; pos2=m-1;val2=nt\n",
    "    if (m%4==1) : pos1=m-1;val1=ct; pos2=m+1;val2=nt\n",
    "    if (m%4==2) : pos1=m+1;val1=ct; pos2=m-1;val2=pt\n",
    "    if (m%4==3) : pos1=m-1;val1=ct; pos2=m+1;val2=pt\n",
    "    return pos1,val1,pos2,val2\n",
    "\n",
    "def hamiltonian_z(N, kvec, edge=False, edgevalue=0.7*t):\n",
    "    Eb = edgevalue\n",
    "    H = np.zeros((2*N, 2*N), dtype=np.complex)\n",
    "    for m in range(2*N):\n",
    "        pos1,val1,pos2,val2 = sigma_z(m+1,kvec)\n",
    "        if (pos1>0) and (pos1<2*N+1): H[m,pos1-1]=val1\n",
    "        if (pos2>0) and (pos2<2*N+1): H[m,pos2-1]=val2\n",
    "        if edge==True : H[0,0]=Eb;H[2*N-1,2*N-1]=Eb\n",
    "    return H"
   ]
  },
  {
   "cell_type": "code",
   "execution_count": null,
   "metadata": {
    "slideshow": {
     "slide_type": "skip"
    }
   },
   "outputs": [],
   "source": [
    "def band_struct_z(N,xlim, ylim ,resol,edge,edgevalue):\n",
    "    x = np.arange(xlim, ylim ,resol)\n",
    "    zGNR = np.zeros((len(x),2*N))\n",
    "    for i in range(len(x)):\n",
    "        H = hamiltonian_z(N,x[i],edge,edgevalue)\n",
    "        evals, evecs = spl.eigh(H)\n",
    "        zGNR[i,:] = evals\n",
    "    return x, zGNR\n",
    "\n",
    "\n",
    "def plot_graphene_nanoribbons_Z(N, xlim, ylim,resol, edge, edgevalue):\n",
    "    x,zGNR=band_struct_z(N,xlim, ylim ,resol, edge, edgevalue)\n",
    "    # #plotting\n",
    "    data=[]\n",
    "    for i in range(N):\n",
    "        trace1=go.Scatter(\n",
    "                x=x,\n",
    "                y=zGNR[:,i],\n",
    "                name='-E'\n",
    "            )\n",
    "        data.append(trace1)\n",
    "        trace2=go.Scatter(\n",
    "                x=x,\n",
    "                y=-zGNR[:,i],\n",
    "                name='+E'\n",
    "            )\n",
    "        data.append(trace2)\n",
    "    if edge==True:\n",
    "        title = 'Graphine-nanoribbons(zGNR) with edge( Eb = '+str(round(edgevalue/t,1))+'t, '+str(N)+' atoms )'\n",
    "    else:\n",
    "        title = 'Graphine-nanoribbons(zGNR) without edge( '+str(N)+' atoms )'\n",
    "    layout = go.Layout(\n",
    "        title=title,\n",
    "        xaxis=dict(title = '<b>k</b>'),        \n",
    "        yaxis=dict(title = '<b>E(k)</b>'),\n",
    "        shapes= [\n",
    "        {\n",
    "            'type': 'rect',\n",
    "            'x0': np.pi,\n",
    "            'y0': -8.,\n",
    "            'x1': np.pi,\n",
    "            'y1': 8,\n",
    "            'line': {\n",
    "                'color': 'rgb(66,165,245)',\n",
    "                'width': 2,\n",
    "                'dash': 'dot',\n",
    "            },\n",
    "        },\n",
    "        {\n",
    "            'type': 'rect',\n",
    "            'x0': -1.*np.pi,\n",
    "            'y0': -8.,\n",
    "            'x1': -1.*np.pi,\n",
    "            'y1': 8,\n",
    "            'line': {\n",
    "                'color': 'rgb(66,165,245)',\n",
    "                'width': 2,\n",
    "                'dash': 'dot',\n",
    "            },\n",
    "        },\n",
    "        ],\n",
    "        showlegend=False,\n",
    "            margin=dict(\n",
    "            l=65,\n",
    "            r=50,\n",
    "            b=65,\n",
    "            t=90\n",
    "        ),\n",
    "    )\n",
    "    fig2 = go.Figure(data=data, layout=layout)\n",
    "    py.iplot(fig2, filename='zGNR',show_link=False)\n",
    "\n",
    "slider_zGNR=widgets.SelectionSlider(\n",
    "    options={'0': 0, '1': 1, '2': 2, '3':3, '4':4, '5':5, '6':6, '7':7, '8':8, '9':9, \n",
    "             '20':20, '30':30, '50':50, '80':80, '100':100},\n",
    "    value=6,\n",
    "    description='N',\n",
    "    disabled=False,\n",
    "    orientation='horizontal',\n",
    "    readout=True,\n",
    ")\n",
    "\n",
    "xlim = -1.2*np.pi; ylim = 1.2*np.pi; resol=0.1\n",
    "def iplotz(i, edge, edgevalue):\n",
    "    plot_graphene_nanoribbons_Z(i, xlim, ylim, resol, edge, edgevalue)\n",
    "    "
   ]
  },
  {
   "cell_type": "code",
   "execution_count": null,
   "metadata": {
    "scrolled": false,
    "slideshow": {
     "slide_type": "slide"
    }
   },
   "outputs": [],
   "source": [
    "interact(iplotz,i=slider_zGNR, edge=fixed(False), edgevalue=fixed(0.7*t));"
   ]
  },
  {
   "cell_type": "code",
   "execution_count": null,
   "metadata": {
    "slideshow": {
     "slide_type": "slide"
    }
   },
   "outputs": [],
   "source": [
    "interact(iplotz,i=slider_zGNR, edge=fixed(True), edgevalue=fixed(0.7*t));"
   ]
  },
  {
   "cell_type": "code",
   "execution_count": null,
   "metadata": {
    "slideshow": {
     "slide_type": "skip"
    }
   },
   "outputs": [],
   "source": [
    "Delta = np.zeros(100)\n",
    "for Nat in range(1,101):\n",
    "    Delta[Nat-1]=4*np.pi/Nat\n",
    "\n",
    "data=[]\n",
    "trace1=go.Scatter(\n",
    "        y=Delta[:],\n",
    "        name='delta',\n",
    "        mode='lines+markers'\n",
    "    )\n",
    "data.append(trace1)\n",
    "\n",
    "layout = go.Layout(\n",
    "title='Band gap of the zigzag ribbon at k = 2π/3',\n",
    "xaxis=dict(title = '<b>N</b>'),        \n",
    "yaxis=dict(title = '<b>delta(N)</b>'),\n",
    "showlegend=False,\n",
    "    margin=dict(\n",
    "    l=65,\n",
    "    r=50,\n",
    "    b=65,\n",
    "    t=90\n",
    "),\n",
    ")\n",
    "fig2 = go.Figure(data=data, layout=layout)"
   ]
  },
  {
   "cell_type": "code",
   "execution_count": null,
   "metadata": {
    "slideshow": {
     "slide_type": "slide"
    }
   },
   "outputs": [],
   "source": [
    "py.iplot(fig2, filename='aGNR',show_link=False)"
   ]
  },
  {
   "cell_type": "markdown",
   "metadata": {
    "slideshow": {
     "slide_type": "skip"
    }
   },
   "source": [
    "### Graphene Armchair Ribbon(aGNR)"
   ]
  },
  {
   "cell_type": "markdown",
   "metadata": {
    "slideshow": {
     "slide_type": "slide"
    }
   },
   "source": [
    "<img src=\"aGNR.png\" style=\"display: block;margin:auto;width:40%;\">"
   ]
  },
  {
   "cell_type": "code",
   "execution_count": null,
   "metadata": {
    "slideshow": {
     "slide_type": "slide"
    }
   },
   "outputs": [],
   "source": [
    "# aGNR\n",
    "t=2.6; a0=0.; a1=1.\n",
    "\n",
    "def sigma_a(m,kvec):\n",
    "    ct=np.complex(t)\n",
    "    nt=t*np.exp(-1j*kvec*a1)\n",
    "    pt=t*np.exp(1j*kvec*a1)\n",
    "    if (m%4==0) : pos1=m-3;val1=ct; pos2=m+1;val2=ct; pos3=m-1;val3=nt\n",
    "    if (m%4==1) : pos1=m+3;val1=ct; pos2=m+1;val2=ct; pos3=m-1;val3=ct\n",
    "    if (m%4==2) : pos1=m-3;val1=ct; pos2=m-1;val2=ct; pos3=m+1;val3=ct\n",
    "    if (m%4==3) : pos1=m+3;val1=ct; pos2=m-1;val2=ct; pos3=m+1;val3=pt\n",
    "    return pos1, val1, pos2, val2, pos3, val3\n",
    "\n",
    "def hamiltonian_a(N, kvec, edge=False, edgevalue=0.7*t):\n",
    "    Eb = edgevalue\n",
    "    H = np.zeros((2*N, 2*N), dtype=np.complex)\n",
    "    for m in range(2*N):\n",
    "        pos1,val1,pos2,val2,pos3,val3 = sigma_a(m+1,kvec)\n",
    "        if (pos1>=1) and (pos1<=2*N): H[m,pos1-1]=val1\n",
    "        if (pos2>=1) and (pos2<=2*N): H[m,pos2-1]=val2        \n",
    "        if (pos3>=1) and (pos3<=2*N): H[m,pos3-1]=val3\n",
    "        if edge==True : H[0,0]=Eb;H[2*N-1,2*N-1]=Eb; #H[1,1]=Eb;H[2*N-2,2*N-2]=Eb\n",
    "    return H"
   ]
  },
  {
   "cell_type": "code",
   "execution_count": null,
   "metadata": {
    "slideshow": {
     "slide_type": "skip"
    }
   },
   "outputs": [],
   "source": [
    "def band_struct_a(N,xlim, ylim ,resol,edge,edgevalue):\n",
    "    x = np.arange(xlim, ylim ,resol)\n",
    "    aGNR = np.zeros((len(x),2*N))\n",
    "    for i in range(len(x)):\n",
    "        H = hamiltonian_a(N,x[i],edge,edgevalue)\n",
    "        evals, evecs = spl.eigh(H)\n",
    "        aGNR[i,:] = evals\n",
    "    return x, aGNR"
   ]
  },
  {
   "cell_type": "code",
   "execution_count": null,
   "metadata": {
    "slideshow": {
     "slide_type": "skip"
    }
   },
   "outputs": [],
   "source": [
    "def plot_graphene_nanoribbons_A(N, xlim, ylim,resol, edge, edgevalue):\n",
    "    x,aGNR=band_struct_a(N, xlim, ylim ,resol, edge, edgevalue)\n",
    "    # #plotting\n",
    "    data=[]\n",
    "    for i in range(N):\n",
    "        trace1=go.Scatter(\n",
    "                x=x,\n",
    "                y=aGNR[:,i],\n",
    "                name='-E'\n",
    "            )\n",
    "        data.append(trace1)\n",
    "        trace2=go.Scatter(\n",
    "                x=x,\n",
    "                y=-aGNR[:,i],\n",
    "                name='+E'\n",
    "            )\n",
    "        data.append(trace2)\n",
    "        \n",
    "    if edge==True:\n",
    "        title = 'Graphine-nanoribbons(aGNR) with edge( Eb = '+str(round(edgevalue/t,1))+'t, '+str(N)+' atoms )'\n",
    "    else:\n",
    "        title = 'Graphine-nanoribbons(aGNR) without edge( '+str(N)+' atoms )'\n",
    "        \n",
    "    layout = go.Layout(\n",
    "        title=title,\n",
    "        xaxis=dict(title = '<b>k</b>'),        \n",
    "        yaxis=dict(title = '<b>E(k)</b>'),\n",
    "        showlegend=False,\n",
    "            margin=dict(\n",
    "            l=65,\n",
    "            r=50,\n",
    "            b=65,\n",
    "            t=90\n",
    "        ),\n",
    "    )\n",
    "    fig2 = go.Figure(data=data, layout=layout)\n",
    "    py.iplot(fig2, filename='aGNR',show_link=False)\n",
    "\n",
    "slider_aGNR=widgets.SelectionSlider(\n",
    "    options={'0': 0, '1': 1, '2': 2, '3':3, '4':4, '5':5, '6':6, '7':7, '8':8, '9':9, '15':15,\n",
    "             '20':20, '30':30, '50':50, '80':80, '100':100},\n",
    "    value=6,\n",
    "    description='np',\n",
    "    disabled=False,\n",
    "    orientation='horizontal',\n",
    "    readout=True,\n",
    ")\n",
    "\n",
    "xlim = -1.*np.pi; ylim = np.pi; resol=0.1\n",
    "def iplotz(i, edge, edgevalue):\n",
    "    plot_graphene_nanoribbons_A(i, xlim, ylim, resol, edge, edgevalue)\n",
    "    "
   ]
  },
  {
   "cell_type": "code",
   "execution_count": null,
   "metadata": {
    "slideshow": {
     "slide_type": "slide"
    }
   },
   "outputs": [],
   "source": [
    "interact(iplotz,i=slider_aGNR, edge=fixed(False), edgevalue=fixed(0.7*t));"
   ]
  },
  {
   "cell_type": "code",
   "execution_count": null,
   "metadata": {
    "slideshow": {
     "slide_type": "slide"
    }
   },
   "outputs": [],
   "source": [
    "interact(iplotz,i=slider_aGNR, edge=fixed(True), edgevalue=fixed(0.7*t));"
   ]
  },
  {
   "cell_type": "markdown",
   "metadata": {
    "slideshow": {
     "slide_type": "skip"
    }
   },
   "source": [
    "## Density of states"
   ]
  },
  {
   "cell_type": "markdown",
   "metadata": {
    "slideshow": {
     "slide_type": "slide"
    }
   },
   "source": [
    "$$D(E)= \\sum_m\\delta(E-E_m)$$"
   ]
  },
  {
   "cell_type": "code",
   "execution_count": null,
   "metadata": {
    "slideshow": {
     "slide_type": "skip"
    }
   },
   "outputs": [],
   "source": [
    "E=ZN.flatten()\n",
    "dos_n,bin_edges_n = np.histogram(E,80,normed=True)\n",
    "# dos_p,bin_edges_p = np.histogram(-E,80,normed=True)\n",
    "\n",
    "\n",
    "# trace0 = go.Scatter(\n",
    "#     x = bin_edges_p,\n",
    "#     y = dos_p,\n",
    "#     mode = 'lines',\n",
    "# )\n",
    "trace1 = go.Scatter(\n",
    "    x = bin_edges_n,\n",
    "    y = dos_n,\n",
    "    mode = 'lines',\n",
    ")\n",
    "\n",
    "data_dos = [trace1]\n",
    "layout_dos = dict(\n",
    "    title = '<b>DOS-Graphene</b>',\n",
    "    xaxis = dict(title = '<b>E</b>'),\n",
    "    yaxis = dict(title = '<b>D(E)</b>'),\n",
    "    showlegend=False,\n",
    "    )\n",
    "\n",
    "fig_dos = dict(data=data_dos, layout=layout_dos)"
   ]
  },
  {
   "cell_type": "code",
   "execution_count": null,
   "metadata": {
    "slideshow": {
     "slide_type": "slide"
    }
   },
   "outputs": [],
   "source": [
    "py.iplot(fig_dos, filename='dos-graphene',show_link=False)"
   ]
  },
  {
   "cell_type": "code",
   "execution_count": null,
   "metadata": {
    "slideshow": {
     "slide_type": "skip"
    }
   },
   "outputs": [],
   "source": [
    "def plot_dos_zGNR(N,xlim, ylim ,resol, edge, edgevalue):\n",
    "    x,zGNR=band_struct_z(N,xlim, ylim ,resol, edge, edgevalue)\n",
    "    zE=zGNR.flatten()\n",
    "    dos_n,bin_edges_n = np.histogram(zE,80,normed=True)\n",
    "    # dos_p,bin_edges_p = np.histogram(-zE,80,normed=True)\n",
    "\n",
    "\n",
    "    trace0 = go.Scatter(\n",
    "        x = bin_edges_n,\n",
    "        y = dos_n,\n",
    "        mode = 'lines',\n",
    "    )\n",
    "    # trace1 = go.Scatter(\n",
    "    #     x = bin_edges_p,\n",
    "    #     y = dos_p,\n",
    "    #     mode = 'lines',\n",
    "    # )\n",
    "\n",
    "    data_dos = [trace0]\n",
    "    if edge==True: \n",
    "        title = '<b>DOS-zGNR with Edge effect(Eb = '+str(round(edgevalue/t,1))+'t )</b>'\n",
    "    else:\n",
    "        title = '<b>DOS-zGNR without Edge effect</b>'\n",
    "    layout_dos = dict(\n",
    "        title = title,\n",
    "        xaxis = dict(title = '<b>E</b>'),\n",
    "        yaxis = dict(title = '<b>D(E)</b>'),\n",
    "        showlegend=False,\n",
    "        )\n",
    "\n",
    "    fig_dos = dict(data=data_dos, layout=layout_dos)\n",
    "    py.iplot(fig_dos, filename='dos-graphene',show_link=False)\n",
    "\n",
    "slider_zGNR_dos=widgets.SelectionSlider(\n",
    "    options={'0': 0, '0.1': 1, '0.2': 2, '0.3':3, '0.4':4, '0.5':5, '0.6':6, '0.7':7, '0.8':8, '0.9':9, \n",
    "             '1.0':10, '1.1':11, '1.2':12, '1.3':13, '1.4':14},\n",
    "    value=0,\n",
    "    description='t',\n",
    "    disabled=False,\n",
    "    orientation='horizontal',\n",
    "    readout=True,\n",
    ")\n",
    "\n",
    "def iplotdos(i,edge):\n",
    "        xlim = -1*np.pi; ylim = np.pi; resol=0.1; edge=edge; edgevalue=0.1*i*t;N=100\n",
    "        plot_dos_zGNR(N,xlim,ylim,resol,edge,edgevalue)"
   ]
  },
  {
   "cell_type": "code",
   "execution_count": null,
   "metadata": {
    "slideshow": {
     "slide_type": "slide"
    }
   },
   "outputs": [],
   "source": [
    "interact(iplotdos, i=slider_zGNR_dos, edge=fixed(True));"
   ]
  },
  {
   "cell_type": "code",
   "execution_count": null,
   "metadata": {
    "slideshow": {
     "slide_type": "skip"
    }
   },
   "outputs": [],
   "source": [
    "xlim = -1*np.pi; ylim = np.pi; resol=0.1; edge=False; edgevalue=1.0*t;N=100\n",
    "x,aGNR=band_struct_a(N,xlim, ylim ,resol, edge, edgevalue)\n",
    "\n",
    "aE=aGNR.flatten()\n",
    "dos_a,bin_edges_a = np.histogram(aE,80,normed=True)\n",
    "\n",
    "trace0 = go.Scatter(\n",
    "    x = bin_edges_a,\n",
    "    y = dos_a,\n",
    "    mode = 'lines',\n",
    ")\n",
    "\n",
    "data_dos = [trace0]\n",
    "if edge==True: \n",
    "    title = '<b>DOS-aGNR with Edge effect</b>'\n",
    "else:\n",
    "    title = '<b>DOS-aGNR without Edge effect</b>'\n",
    "layout_dos = dict(\n",
    "    title = title,\n",
    "    xaxis = dict(title = '<b>E</b>'),\n",
    "    yaxis = dict(title = '<b>D(E)</b>'),\n",
    "    showlegend=False,\n",
    "    )\n",
    "\n",
    "fig_dos = dict(data=data_dos, layout=layout_dos)"
   ]
  },
  {
   "cell_type": "code",
   "execution_count": null,
   "metadata": {
    "slideshow": {
     "slide_type": "subslide"
    }
   },
   "outputs": [],
   "source": [
    "py.iplot(fig_dos, filename='dos-graphene',show_link=False)"
   ]
  },
  {
   "cell_type": "code",
   "execution_count": null,
   "metadata": {
    "slideshow": {
     "slide_type": "skip"
    }
   },
   "outputs": [],
   "source": []
  }
 ],
 "metadata": {
  "celltoolbar": "Slideshow",
  "hide_input": false,
  "kernelspec": {
   "display_name": "Python 3",
   "language": "python",
   "name": "python3"
  },
  "language_info": {
   "codemirror_mode": {
    "name": "ipython",
    "version": 3
   },
   "file_extension": ".py",
   "mimetype": "text/x-python",
   "name": "python",
   "nbconvert_exporter": "python",
   "pygments_lexer": "ipython3",
   "version": "3.6.2"
  }
 },
 "nbformat": 4,
 "nbformat_minor": 2
}
